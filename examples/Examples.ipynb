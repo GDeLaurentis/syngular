{
 "cells": [
  {
   "cell_type": "code",
   "execution_count": null,
   "metadata": {},
   "outputs": [],
   "source": [
    "import sympy\n",
    "\n",
    "from syngular import Ideal, Ring, QuotientRing, SingularException"
   ]
  },
  {
   "cell_type": "code",
   "execution_count": null,
   "metadata": {},
   "outputs": [],
   "source": [
    "# ring instantiation\n",
    "ring0 = Ring('0', sympy.symbols(('x1', 'x2')), 'dp')\n",
    "ring1 = Ring('0', ('x1', 'x2'), 'dp')\n",
    "ring2 = Ring('0', ('x', 'y'), 'dp')\n",
    "assert ring0 == ring1\n",
    "assert not ring0 == ring2"
   ]
  },
  {
   "cell_type": "code",
   "execution_count": null,
   "metadata": {},
   "outputs": [],
   "source": [
    "# ideal instantiation\n",
    "I = Ideal(Ring('0', ('x1', 'x2'), 'dp'), ['x1*x2'])\n",
    "assert I is not None"
   ]
  },
  {
   "cell_type": "code",
   "execution_count": null,
   "metadata": {},
   "outputs": [],
   "source": [
    "# invalid ideal instantiation\n",
    "try:\n",
    "    Ideal(Ring('0', ('x1', 'x2'), 'dp'), ['x*y'])\n",
    "except SingularException:\n",
    "    print(\"This raises an exception!\")"
   ]
  },
  {
   "cell_type": "code",
   "execution_count": null,
   "metadata": {},
   "outputs": [],
   "source": [
    "# ideal quotient\n",
    "I = Ideal(Ring('0', ('x1', 'x2'), 'dp'), ['x1*x2'])\n",
    "J = Ideal(Ring('0', ('x1', 'x2'), 'dp'), ['x1^2*x2'])\n",
    "K = Ideal(Ring('0', ('x1', 'x2'), 'dp'), ['x1'])\n",
    "R = Ideal(Ring('0', ('x1', 'x2'), 'dp'), ['1'])\n",
    "assert R / I == R\n",
    "assert I / R == I\n",
    "assert J / I == K"
   ]
  },
  {
   "cell_type": "code",
   "execution_count": null,
   "metadata": {},
   "outputs": [],
   "source": [
    "# primary decomposition\n",
    "I = Ideal(Ring('0', ('x1', 'x2'), 'dp'), ['x1*x2'])\n",
    "J = Ideal(Ring('0', ('x1', 'x2'), 'dp'), ['x2'])\n",
    "K = Ideal(Ring('0', ('x1', 'x2'), 'dp'), ['x1'])\n",
    "indepSet = I.indepSets[0]\n",
    "X = I.ring.variables\n",
    "U = tuple(var for is_indep, var in zip(indepSet, X) if is_indep)\n",
    "assert I.primary_decomposition == [(J, J), (K, K)]"
   ]
  },
  {
   "cell_type": "code",
   "execution_count": null,
   "metadata": {},
   "outputs": [],
   "source": [
    "# extension - contraction - primality test\n",
    "assert I.test_primality() == False\n",
    "assert J.test_primality() == True\n",
    "assert I.extension_contraction(U) == (1, J)"
   ]
  },
  {
   "cell_type": "code",
   "execution_count": null,
   "metadata": {},
   "outputs": [],
   "source": [
    "# intersection\n",
    "I = Ideal(Ring('0', ('x1', 'x2'), 'dp'), ['x1^2*x2'])\n",
    "J = Ideal(Ring('0', ('x1', 'x2'), 'dp'), ['x2'])\n",
    "K = Ideal(Ring('0', ('x1', 'x2'), 'dp'), ['x1^2'])\n",
    "assert I == J & K"
   ]
  },
  {
   "cell_type": "code",
   "execution_count": null,
   "metadata": {},
   "outputs": [],
   "source": [
    "# elimination\n",
    "I = Ideal(Ring('0', ('x1', 'x2'), 'dp'), ['x1', 'x2'])\n",
    "J = Ideal(Ring('0', ('x1', ), 'dp'), ['x1'])\n",
    "K = Ideal(Ring('0', ('x2', ), 'dp'), ['x2'])\n",
    "assert I.eliminate(range(1, 1)) == K\n",
    "assert I.eliminate(range(2, 2)) == J"
   ]
  },
  {
   "cell_type": "code",
   "execution_count": null,
   "metadata": {},
   "outputs": [],
   "source": [
    "# addition\n",
    "I = Ideal(Ring('0', ('x1', 'x2'), 'dp'), ['x1', 'x2'])\n",
    "J = Ideal(Ring('0', ('x1', 'x2'), 'dp'), ['x1'])\n",
    "K = Ideal(Ring('0', ('x1', 'x2'), 'dp'), ['x2'])\n",
    "assert I == J + K"
   ]
  },
  {
   "cell_type": "code",
   "execution_count": null,
   "metadata": {},
   "outputs": [],
   "source": [
    "# polynomial containment\n",
    "K = Ideal(Ring('0', ('x1', 'x2'), 'dp'), ['x1^2'])\n",
    "L = Ideal(Ring('0', ('x1', 'x2'), 'dp'), ['x1'])\n",
    "assert 'x1' not in K\n",
    "assert 'x1' in L\n",
    "assert sympy.symbols('x1') in L"
   ]
  },
  {
   "cell_type": "code",
   "execution_count": null,
   "metadata": {},
   "outputs": [],
   "source": [
    "# ideal containment\n",
    "K = Ideal(Ring('0', ('x1', 'x2'), 'dp'), ['x1^2'])\n",
    "L = Ideal(Ring('0', ('x1', 'x2'), 'dp'), ['x1'])\n",
    "assert K in L\n",
    "assert L not in K"
   ]
  },
  {
   "cell_type": "code",
   "execution_count": null,
   "metadata": {},
   "outputs": [],
   "source": [
    "# independent set\n",
    "I = Ideal(Ring('0', ('x1', 'x2'), 'dp'), ['x1^2*x2'])\n",
    "assert I.indepSets == [(1, 0), (0, 1)]"
   ]
  },
  {
   "cell_type": "code",
   "execution_count": null,
   "metadata": {},
   "outputs": [],
   "source": [
    "# dimensionality\n",
    "I = Ideal(Ring('0', ('x1', 'x2'), 'dp'), [])\n",
    "assert I.dim == 2\n",
    "I = Ideal(Ring('0', ('x1', 'x2'), 'dp'), ['x1*x2'])\n",
    "assert I.dim == 1"
   ]
  },
  {
   "cell_type": "code",
   "execution_count": null,
   "metadata": {},
   "outputs": [],
   "source": [
    "# dimensionalities\n",
    "I = Ideal(Ring('0', ('x1', 'x2', 'x3'), 'dp'), ['(x3+1)*x1', '(x2+1)*x1'])\n",
    "assert I.dim == 2\n",
    "assert I.dims == {1, 2}\n",
    "assert I.codim == 1\n",
    "assert I.codims == {1, 2}"
   ]
  },
  {
   "cell_type": "code",
   "execution_count": null,
   "metadata": {},
   "outputs": [],
   "source": [
    "# hashing and set\n",
    "I = Ideal(Ring('0', ('x1', 'x2'), 'dp'), ['x1^2*x2'])\n",
    "J = Ideal(Ring('0', ('x1', 'x2'), 'dp'), ['x2'])\n",
    "assert {I, I} == {I}\n",
    "assert {I, I, J} == {I, J, J} == {I, J}"
   ]
  },
  {
   "cell_type": "code",
   "execution_count": null,
   "metadata": {},
   "outputs": [],
   "source": [
    "# ideal over quotient ring\n",
    "ring = Ring('0', ('x1', 'x2'), 'dp')\n",
    "I = Ideal(ring, ['x1', 'x2'])\n",
    "J = Ideal(ring, ['x1'])\n",
    "qring = QuotientRing(ring, J)\n",
    "I.ring = qring\n",
    "assert I.groebner_basis == I.minbase == ['x2']"
   ]
  },
  {
   "cell_type": "code",
   "execution_count": null,
   "metadata": {},
   "outputs": [],
   "source": [
    "# reduce poly\n",
    "ring = Ring('0', ('x1', 'x2'), 'dp')\n",
    "I = Ideal(ring, ['x1'])\n",
    "poly = 'x1+x2'\n",
    "remainder = I.reduce(poly)\n",
    "assert remainder == 'x2'"
   ]
  },
  {
   "cell_type": "code",
   "execution_count": null,
   "metadata": {},
   "outputs": [],
   "source": [
    "# reduce ideal\n",
    "ring = Ring('0', ('x1', 'x2'), 'dp')\n",
    "I = Ideal(ring, ['x1', 'x2'])\n",
    "J = Ideal(ring, ['x1'])\n",
    "K = J.reduce(I)\n",
    "assert K == Ideal(ring, ['x2'])\n",
    "L = I.reduce(J)\n",
    "assert L == Ideal(ring, ['0'])"
   ]
  }
 ],
 "metadata": {
  "kernelspec": {
   "display_name": "Python 3",
   "language": "python",
   "name": "python3"
  },
  "language_info": {
   "codemirror_mode": {
    "name": "ipython",
    "version": 3
   },
   "file_extension": ".py",
   "mimetype": "text/x-python",
   "name": "python",
   "nbconvert_exporter": "python",
   "pygments_lexer": "ipython3",
   "version": "3.8.10"
  },
  "toc": {
   "base_numbering": 1,
   "nav_menu": {},
   "number_sections": true,
   "sideBar": true,
   "skip_h1_title": true,
   "title_cell": "Table of Contents",
   "title_sidebar": "Contents",
   "toc_cell": false,
   "toc_position": {},
   "toc_section_display": true,
   "toc_window_display": false
  }
 },
 "nbformat": 4,
 "nbformat_minor": 4
}
